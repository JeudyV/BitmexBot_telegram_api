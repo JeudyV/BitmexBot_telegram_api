{
 "cells": [
  {
   "cell_type": "code",
   "execution_count": null,
   "metadata": {
    "scrolled": true
   },
   "outputs": [
    {
     "name": "stdout",
     "output_type": "stream",
     "text": [
      "/parser TEXT TEXT\n",
      "['/parser', 'TEXT', 'TEXT']\n",
      "/parser TEXT TEXT\n",
      "['/parser', 'TEXT', 'TEXT']\n"
     ]
    }
   ],
   "source": [
    "from telegram.ext import Updater, CommandHandler\n",
    "from telegram.ext import MessageHandler, Filters\n",
    "from telegram import InlineKeyboardButton, InlineKeyboardMarkup\n",
    "from telegram.ext import Updater, CommandHandler, CallbackQueryHandler\n",
    "\n",
    "\n",
    "def parser(update, context):\n",
    "    print(update.message.text)\n",
    "    commands = update.message.text.split(' ')\n",
    "    print(commands)\n",
    "    update.message.reply_text(\n",
    "        'Hello {}'.format(update.message.from_user.first_name))\n",
    "\n",
    "def echo(update, context):\n",
    "    print(update.message.text)\n",
    "    context.bot.send_message(chat_id=update.effective_chat.id, text=update.message.text)\n",
    "\n",
    "\n",
    "updater = Updater('1069428866:AAEg7jVA_ad0BWWNLqcgS_A1weMkTFhjorE', use_context=True)\n",
    "\n",
    "updater.dispatcher.add_handler(CommandHandler('parser', parser))\n",
    "\n",
    "updater.start_polling()\n",
    "updater.idle()"
   ]
  },
  {
   "cell_type": "code",
   "execution_count": null,
   "metadata": {},
   "outputs": [],
   "source": []
  },
  {
   "cell_type": "code",
   "execution_count": null,
   "metadata": {},
   "outputs": [],
   "source": []
  }
 ],
 "metadata": {
  "kernelspec": {
   "display_name": "Python 3",
   "language": "python",
   "name": "python3"
  },
  "language_info": {
   "codemirror_mode": {
    "name": "ipython",
    "version": 3
   },
   "file_extension": ".py",
   "mimetype": "text/x-python",
   "name": "python",
   "nbconvert_exporter": "python",
   "pygments_lexer": "ipython3",
   "version": "3.7.4"
  }
 },
 "nbformat": 4,
 "nbformat_minor": 2
}
