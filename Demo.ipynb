{
 "cells": [
  {
   "cell_type": "code",
   "execution_count": null,
   "metadata": {},
   "outputs": [],
   "source": [
    "from telegram.ext import Updater, CommandHandler\n",
    "from telegram.ext import MessageHandler, Filters\n",
    "from telegram import InlineKeyboardButton, InlineKeyboardMarkup\n",
    "from telegram.ext import Updater, CommandHandler, CallbackQueryHandler\n",
    "\n",
    "\n",
    "def hello(update, context):\n",
    "    update.message.reply_text(\n",
    "        'Hello {}'.format(update.message.from_user.first_name))\n",
    "\n",
    "def echo(update, context):\n",
    "    context.bot.send_message(chat_id=update.effective_chat.id, text=update.message.text)\n",
    "\n",
    "\n",
    "def start(update, context):\n",
    "    keyboard = [[InlineKeyboardButton(\"Option 1\", callback_data='1'),\n",
    "                 InlineKeyboardButton(\"Option 2\", callback_data='2')],\n",
    "\n",
    "                [InlineKeyboardButton(\"Option 3\", callback_data='3')]]\n",
    "\n",
    "    reply_markup = InlineKeyboardMarkup(keyboard)\n",
    "\n",
    "    update.message.reply_text('Please choose:', reply_markup=reply_markup)\n",
    "\n",
    "updater = Updater('1078478278:AAHLLs2LJpTFBt19ppcb0_I9kfANo3cb5gA', use_context=True)\n",
    "\n",
    "updater.dispatcher.add_handler(CommandHandler('hello', hello))\n",
    "updater.dispatcher.add_handler(CommandHandler('start', start))\n",
    "\n",
    "echo_handler = MessageHandler(Filters.text, echo)\n",
    "v = echo_handler._dict_\n",
    "print(v)\n",
    "updater.dispatcher.add_handler(echo_handler)\n",
    "\n",
    "updater.start_polling()\n",
    "updater.idle()"
   ]
  }
 ],
 "metadata": {
  "kernelspec": {
   "display_name": "venv",
   "language": "python",
   "name": "venv"
  },
  "language_info": {
   "codemirror_mode": {
    "name": "ipython",
    "version": 3
   },
   "file_extension": ".py",
   "mimetype": "text/x-python",
   "name": "python",
   "nbconvert_exporter": "python",
   "pygments_lexer": "ipython3",
   "version": "3.7.5rc1"
  }
 },
 "nbformat": 4,
 "nbformat_minor": 2
}
